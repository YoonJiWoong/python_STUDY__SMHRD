{
 "cells": [
  {
   "cell_type": "code",
   "execution_count": 16,
   "id": "6464d74d",
   "metadata": {},
   "outputs": [],
   "source": [
    "from module_test import add"
   ]
  },
  {
   "cell_type": "code",
   "execution_count": 11,
   "id": "0420a1b7",
   "metadata": {},
   "outputs": [
    {
     "data": {
      "text/plain": [
       "6"
      ]
     },
     "execution_count": 11,
     "metadata": {},
     "output_type": "execute_result"
    }
   ],
   "source": [
    "module_test.add(\"+\",1,2,3)"
   ]
  },
  {
   "cell_type": "code",
   "execution_count": 12,
   "id": "229c91b0",
   "metadata": {},
   "outputs": [
    {
     "data": {
      "text/plain": [
       "6"
      ]
     },
     "execution_count": 12,
     "metadata": {},
     "output_type": "execute_result"
    }
   ],
   "source": [
    "add(\"+\",1,2,3)"
   ]
  },
  {
   "cell_type": "code",
   "execution_count": null,
   "id": "a16b20c0",
   "metadata": {},
   "outputs": [],
   "source": [
    "module_test."
   ]
  },
  {
   "cell_type": "code",
   "execution_count": null,
   "id": "e22bb7ff",
   "metadata": {},
   "outputs": [],
   "source": []
  },
  {
   "cell_type": "code",
   "execution_count": null,
   "id": "fea2b7d2",
   "metadata": {},
   "outputs": [],
   "source": []
  },
  {
   "cell_type": "code",
   "execution_count": null,
   "id": "b3ffb10b",
   "metadata": {},
   "outputs": [],
   "source": []
  }
 ],
 "metadata": {
  "kernelspec": {
   "display_name": "Python 3",
   "language": "python",
   "name": "python3"
  },
  "language_info": {
   "codemirror_mode": {
    "name": "ipython",
    "version": 3
   },
   "file_extension": ".py",
   "mimetype": "text/x-python",
   "name": "python",
   "nbconvert_exporter": "python",
   "pygments_lexer": "ipython3",
   "version": "3.8.8"
  }
 },
 "nbformat": 4,
 "nbformat_minor": 5
}
